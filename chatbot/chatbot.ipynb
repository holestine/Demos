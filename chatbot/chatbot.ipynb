{
 "cells": [
  {
   "cell_type": "markdown",
   "metadata": {},
   "source": [
    "# Chatbot Demo\n",
    "This notebook shows how to fine tune and use the LLM in [customizable_chatbot.py](./customizable_chatbot.py)."
   ]
  },
  {
   "cell_type": "markdown",
   "metadata": {},
   "source": [
    "## Setup\n",
    "Run the following commands once to setup the environment.\n"
   ]
  },
  {
   "cell_type": "code",
   "execution_count": null,
   "metadata": {},
   "outputs": [],
   "source": [
    "!pip install -r ../requirements.txt\n",
    "!playwright install"
   ]
  },
  {
   "cell_type": "markdown",
   "metadata": {},
   "source": [
    "## Import Necessary Resources"
   ]
  },
  {
   "cell_type": "code",
   "execution_count": 1,
   "metadata": {},
   "outputs": [],
   "source": [
    "from customizable_chatbot import ChatBot, FRAUD_DETECTION_PROMPT, HUMAN_FRAUD_PROMPT"
   ]
  },
  {
   "cell_type": "markdown",
   "metadata": {},
   "source": [
    "## Create Data to Fine Tune LLM\n",
    "ChatGPT and similar LLMs are trained on a very large corpus of data to enable basic knowledge in many domains. Generally their knowledge can be augmented with more current or more detailed data to extend their capabilities into other areas of expertise. The script [extract_training_data.py](./extract_training_data.py) collects data from a set of pre-specified web pages and local PDFs in order to create the data needed to do this then puts the text in the file [data.txt](./data.txt). It's worth noting that this example is text based but multimodal and layout aware capabilities are becoming more common and are available in [Cortex by SnowFlake](https://www.snowflake.com/en/data-cloud/cortex/)."
   ]
  },
  {
   "cell_type": "code",
   "execution_count": 9,
   "metadata": {},
   "outputs": [],
   "source": [
    "!python extract_training_data.py"
   ]
  },
  {
   "cell_type": "markdown",
   "metadata": {},
   "source": [
    "# Initialize LLMs\n",
    "We'll create a standard and a fine tuned LLM."
   ]
  },
  {
   "cell_type": "code",
   "execution_count": 6,
   "metadata": {},
   "outputs": [
    {
     "name": "stdout",
     "output_type": "stream",
     "text": [
      "You are to act as a financial fraud detection expert. Use the following data for additional context to help answer questions. Ask for more information if needed. If you don't know the answer, say that you don't know. Keep answers concise using a maximum of three sentences including a conclusion.\n"
     ]
    }
   ],
   "source": [
    "print(FRAUD_DETECTION_PROMPT)\n",
    "\n",
    "llm_init_params = {\n",
    "    \"system_prompt\": FRAUD_DETECTION_PROMPT, \n",
    "    \"additional_data_file\": \"data.txt\"\n",
    "}\n",
    "\n",
    "chatbot_basic      = ChatBot()\n",
    "chatbot_fine_tuned = ChatBot(llm_init_params=llm_init_params)"
   ]
  },
  {
   "cell_type": "markdown",
   "metadata": {},
   "source": [
    "## Start Conversation\n",
    "This launches the UI, you will probably need to allow the browser to use the microphone to enable the audio functions."
   ]
  },
  {
   "cell_type": "code",
   "execution_count": 3,
   "metadata": {},
   "outputs": [
    {
     "name": "stdout",
     "output_type": "stream",
     "text": [
      "What are the best ways to detect financial fraud?\n"
     ]
    }
   ],
   "source": [
    "human_prompt = HUMAN_FRAUD_PROMPT\n",
    "print(HUMAN_FRAUD_PROMPT)"
   ]
  },
  {
   "cell_type": "code",
   "execution_count": 4,
   "metadata": {},
   "outputs": [
    {
     "name": "stdout",
     "output_type": "stream",
     "text": [
      "Detecting financial fraud is a critical task for organizations, financial institutions, and regulatory bodies. Fraud can take many forms, including embezzlement, money laundering, insider trading, and identity theft. The best ways to detect financial fraud involve a combination of technology, data analysis, internal controls, and human oversight. Below are some of the most effective methods:\n",
      "\n",
      "### 1. **Data Analytics and Machine Learning**\n",
      "   - **Anomaly Detection**: Use machine learning algorithms to detect unusual patterns in financial transactions. These algorithms can flag transactions that deviate from normal behavior, such as unusually large transfers, frequent small transactions, or transactions occurring at odd times.\n",
      "   - **Predictive Analytics**: Machine learning models can be trained on historical data to predict the likelihood of fraudulent activity. These models can identify patterns that are often associated with fraud, such as round-dollar transactions or transactions just below reporting thresholds.\n",
      "   - **Clustering and Classification**: Machine learning techniques like clustering can group similar transactions together, making it easier to spot outliers. Classification algorithms can help categorize transactions as either \"fraudulent\" or \"non-fraudulent\" based on historical data.\n",
      "\n",
      "### 2. **Behavioral Analytics**\n",
      "   - **User Behavior Analytics (UBA)**: Track the behavior of users (e.g., employees, customers) to detect deviations from their normal patterns. For example, if an employee suddenly accesses financial systems at odd hours or from unusual locations, this could be a red flag.\n",
      "   - **Customer Profiling**: Build profiles of typical customer behavior and flag transactions that deviate from these profiles. For example, if a customer who usually makes small purchases suddenly makes a large international transfer, this could indicate fraud.\n",
      "\n",
      "### 3. **Internal Controls and Audits**\n",
      "   - **Segregation of Duties**: Ensure that no single employee has control over all aspects of a financial transaction. For example, the person who approves payments should not be the same person who processes them.\n",
      "   - **Regular Audits**: Conduct regular internal and external audits to review financial records and ensure compliance with policies and regulations. Auditors can often spot inconsistencies or suspicious transactions that automated systems might miss.\n",
      "   - **Reconciliation**: Regularly reconcile financial records, such as bank statements and internal ledgers, to ensure that all transactions are accounted for and legitimate.\n",
      "\n",
      "### 4. **Real-Time Transaction Monitoring**\n",
      "   - **Automated Alerts**: Set up real-time monitoring systems that trigger alerts for suspicious activities, such as large withdrawals, multiple failed login attempts, or transactions from high-risk countries.\n",
      "   - **Geolocation and IP Tracking**: Monitor the geographic location and IP addresses of users making financial transactions. If a transaction is initiated from an unusual location, it could be a sign of fraud.\n",
      "\n",
      "### 5. **Know Your Customer (KYC) and Anti-Money Laundering (AML) Compliance**\n",
      "   - **KYC Procedures**: Implement robust KYC processes to verify the identity of customers before allowing them to open accounts or conduct transactions. This helps prevent identity theft and other forms of fraud.\n",
      "   - **AML Monitoring**: Use AML software to monitor for suspicious activities such as structuring (breaking up large transactions into smaller ones to avoid reporting requirements), layering (moving money through multiple accounts to obscure its origin), and integration (reintroducing laundered money into the legitimate economy).\n",
      "\n",
      "### 6. **Fraud Detection Software**\n",
      "   - **Rule-Based Systems**: Implement rule-based fraud detection systems that flag transactions based on predefined criteria, such as transactions over a certain amount or transactions involving high-risk countries.\n",
      "   - **AI-Powered Solutions**: Use AI-powered fraud detection platforms that continuously learn from new data and adapt to emerging fraud tactics. These systems can often detect fraud more accurately than static rule-based systems.\n",
      "\n",
      "### 7. **Employee Training and Whistleblower Programs**\n",
      "   - **Fraud Awareness Training**: Train employees to recognize the signs of fraud, such as unusual vendor invoices, discrepancies in financial records, or suspicious behavior by colleagues.\n",
      "   - **Whistleblower Programs**: Encourage employees to report suspicious activities by implementing a confidential whistleblower program. Employees are often the first to notice internal fraud, and a safe reporting mechanism can help uncover it early.\n",
      "\n",
      "### 8. **Blockchain and Distributed Ledger Technology (DLT)**\n",
      "   - **Immutable Records**: Blockchain technology can be used to create immutable records of financial transactions, making it much harder for fraudsters to alter or falsify data.\n",
      "   - **Smart Contracts**: Smart contracts can automate and enforce the terms of financial agreements, reducing the risk of fraud by eliminating the need for intermediaries.\n",
      "\n",
      "### 9. **Biometric Authentication**\n",
      "   - **Multi-Factor Authentication (MFA)**: Use biometric authentication methods such as fingerprint scanning, facial recognition, or voice recognition to verify the identity of users conducting financial transactions.\n",
      "   - **Behavioral Biometrics**: Monitor how users interact with systems (e.g., typing speed, mouse movements) to detect anomalies that could indicate fraudulent activity.\n",
      "\n",
      "### 10. **Collaboration with Law Enforcement and Industry Peers**\n",
      "   - **Information Sharing**: Collaborate with other financial institutions, regulatory bodies, and law enforcement agencies to share information about emerging fraud trends and tactics.\n",
      "   - **Fraud Databases**: Participate in industry-wide fraud databases that track known fraudsters and suspicious activities. This can help prevent fraudsters from moving from one institution to another undetected.\n",
      "\n",
      "### 11. **Text Mining and Natural Language Processing (NLP)**\n",
      "   - **Document Analysis**: Use NLP techniques to analyze unstructured data, such as emails, contracts, and invoices, for signs of fraud. For example, text mining can identify inconsistencies in financial documents or detect language that is commonly associated with fraudulent schemes.\n",
      "   - **Sentiment Analysis**: Analyze communications (e.g., emails, social media) for negative sentiment or suspicious language that could indicate fraudulent intent.\n",
      "\n",
      "### 12. **Forensic Accounting**\n",
      "   - **Detailed Financial Analysis**: Forensic accountants can conduct in-depth investigations into financial records to uncover hidden fraud. They use specialized techniques to trace the flow of money, identify shell companies, and detect other forms of financial manipulation.\n",
      "   - **Asset Tracing**: Forensic accountants can also trace assets that have been moved or hidden as part of a fraud scheme, helping to recover stolen funds.\n",
      "\n",
      "### 13. **Social Network Analysis**\n",
      "   - **Relationship Mapping**: Use social network analysis to map relationships between individuals and entities involved in financial transactions. This can help identify collusion, shell companies, or other fraudulent networks.\n",
      "   - **Link Analysis**: Analyze connections between different accounts, transactions, and entities to detect suspicious relationships that may indicate fraud.\n",
      "\n",
      "### 14. **Regulatory Compliance and Reporting**\n",
      "   - **Suspicious Activity Reports (SARs)**: Financial institutions are often required to file SARs with regulatory bodies when they detect suspicious transactions. Ensuring compliance with these reporting requirements can help detect and prevent fraud.\n",
      "   - **Regulatory Technology (RegTech)**: Use RegTech solutions to automate compliance with financial regulations, reducing the risk of fraud and ensuring that suspicious activities are reported in a timely manner.\n",
      "\n",
      "### Conclusion\n",
      "Detecting financial fraud requires a multi-faceted approach that combines advanced technology, strong internal controls, and human oversight. By leveraging data analytics, machine learning, real-time monitoring, and robust compliance programs, organizations can significantly reduce the risk of fraud and detect it early when it does occur. Additionally, fostering a culture of transparency and accountability through employee training and whistleblower programs can further enhance fraud detection efforts.\n"
     ]
    }
   ],
   "source": [
    "basic_response = chatbot_basic.get_response(human_prompt)\n",
    "print(basic_response)"
   ]
  },
  {
   "cell_type": "code",
   "execution_count": 5,
   "metadata": {},
   "outputs": [
    {
     "name": "stdout",
     "output_type": "stream",
     "text": [
      "The best ways to detect financial fraud include:\n",
      "\n",
      "1. **Artificial Intelligence (AI) and Machine Learning (ML):** These technologies analyze large datasets to identify patterns and anomalies that may indicate fraud, such as unusual transaction behavior or deviations from normal patterns.\n",
      "   \n",
      "2. **Data Analytics:** Techniques like regression analysis, clustering, and anomaly detection help identify suspicious activities by analyzing historical and real-time data.\n",
      "\n",
      "3. **Real-Time Transaction Monitoring:** Continuous monitoring of financial transactions allows for the immediate detection of irregularities, enabling quick intervention to prevent fraud.\n",
      "\n",
      "By combining these methods, organizations can enhance their ability to detect and prevent financial fraud effectively.\n"
     ]
    }
   ],
   "source": [
    "fine_tuned_response = chatbot_fine_tuned.get_response(human_prompt)\n",
    "print(fine_tuned_response)"
   ]
  }
 ],
 "metadata": {
  "kernelspec": {
   "display_name": "demo",
   "language": "python",
   "name": "python3"
  },
  "language_info": {
   "codemirror_mode": {
    "name": "ipython",
    "version": 3
   },
   "file_extension": ".py",
   "mimetype": "text/x-python",
   "name": "python",
   "nbconvert_exporter": "python",
   "pygments_lexer": "ipython3",
   "version": "3.12.7"
  }
 },
 "nbformat": 4,
 "nbformat_minor": 4
}
