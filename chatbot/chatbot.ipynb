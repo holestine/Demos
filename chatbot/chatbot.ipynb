{
 "cells": [
  {
   "cell_type": "markdown",
   "metadata": {},
   "source": [
    "## Import Libraries\n",
    "Most of the complexity for the chatbot is in [customizable_chatbot.py](./customizable_chatbot.py)."
   ]
  },
  {
   "cell_type": "code",
   "execution_count": 1,
   "metadata": {},
   "outputs": [],
   "source": [
    "from customizable_chatbot import ChatBot\n",
    "!playwright install"
   ]
  },
  {
   "cell_type": "markdown",
   "metadata": {},
   "source": [
    "## Create Data for LLM Context\n",
    "Running this script will generate a file that contains the data for the LLM. Modify the links in [extract_web_data.py](./extract_web_data.py) to customize this."
   ]
  },
  {
   "cell_type": "code",
   "execution_count": 2,
   "metadata": {},
   "outputs": [
    {
     "name": "stdout",
     "output_type": "stream",
     "text": [
      "python: can't open file '/home/brian/Desktop/code/Demos/chatbot/chatbot/extract_web_data.py': [Errno 2] No such file or directory\n"
     ]
    }
   ],
   "source": [
    "!python chatbot/extract_web_data.py"
   ]
  },
  {
   "cell_type": "markdown",
   "metadata": {},
   "source": [
    "## Start Conversation\n",
    "This launches the UI, you will probably need to allow the browser to use the microphone to enable the audio functions."
   ]
  },
  {
   "cell_type": "code",
   "execution_count": 3,
   "metadata": {},
   "outputs": [
    {
     "data": {
      "text/plain": [
       "'Hello! How can I assist you with financial fraud detection today?'"
      ]
     },
     "execution_count": 3,
     "metadata": {},
     "output_type": "execute_result"
    }
   ],
   "source": [
    "chatbot = ChatBot()\n",
    "history = [] \n",
    "\n",
    "def get_response(prompt):\n",
    "    response = chatbot.respond(prompt)\n",
    "    return response\n",
    "\n",
    "get_response('hello')"
   ]
  }
 ],
 "metadata": {
  "kernelspec": {
   "display_name": "demo",
   "language": "python",
   "name": "python3"
  },
  "language_info": {
   "codemirror_mode": {
    "name": "ipython",
    "version": 3
   },
   "file_extension": ".py",
   "mimetype": "text/x-python",
   "name": "python",
   "nbconvert_exporter": "python",
   "pygments_lexer": "ipython3",
   "version": "3.12.7"
  }
 },
 "nbformat": 4,
 "nbformat_minor": 4
}
